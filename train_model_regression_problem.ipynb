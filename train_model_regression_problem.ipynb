{
 "cells": [
  {
   "cell_type": "markdown",
   "id": "2f8cf98e-78f3-4bb6-bbb2-3b58b5a6eccd",
   "metadata": {},
   "source": [
    "## Import Dependency"
   ]
  },
  {
   "cell_type": "code",
   "execution_count": 1,
   "id": "6cc9b4c2-9c6e-4a1c-9135-4f59876d2e90",
   "metadata": {},
   "outputs": [],
   "source": [
    "import time\n",
    "import pandas as pd\n",
    "import matplotlib.pyplot as plt\n",
    "from sklearn.preprocessing import StandardScaler\n",
    "from sklearn.model_selection import train_test_split\n",
    "from sklearn.model_selection import cross_val_score\n",
    "from sklearn.ensemble import RandomForestRegressor\n",
    "from sklearn.linear_model import LinearRegression\n",
    "from sklearn.metrics import mean_absolute_error, mean_squared_error, r2_score\n",
    "import xgboost as xgb\n",
    "import tensorflow as tf\n",
    "from tensorflow.keras.models import Sequential\n",
    "from tensorflow.keras.layers import Dense, Input\n",
    "from tensorflow.keras.callbacks import EarlyStopping"
   ]
  },
  {
   "cell_type": "markdown",
   "id": "b5e0bf1e-4967-4f3b-9ed9-fd4327763157",
   "metadata": {},
   "source": [
    "## Load Dataset"
   ]
  },
  {
   "cell_type": "code",
   "execution_count": 2,
   "id": "a319ec51-76ae-4156-a3d3-a54f467f7476",
   "metadata": {},
   "outputs": [],
   "source": [
    "file =  '../Dataset/processed_insurance.csv'"
   ]
  },
  {
   "cell_type": "code",
   "execution_count": 3,
   "id": "e2f151fd-9ac5-4c42-a08e-0333aa52f293",
   "metadata": {},
   "outputs": [],
   "source": [
    "df = pd.read_csv(file)"
   ]
  },
  {
   "cell_type": "code",
   "execution_count": 4,
   "id": "6949c960-19ee-4573-940e-ffae5623f2a9",
   "metadata": {},
   "outputs": [
    {
     "data": {
      "text/html": [
       "<div>\n",
       "<style scoped>\n",
       "    .dataframe tbody tr th:only-of-type {\n",
       "        vertical-align: middle;\n",
       "    }\n",
       "\n",
       "    .dataframe tbody tr th {\n",
       "        vertical-align: top;\n",
       "    }\n",
       "\n",
       "    .dataframe thead th {\n",
       "        text-align: right;\n",
       "    }\n",
       "</style>\n",
       "<table border=\"1\" class=\"dataframe\">\n",
       "  <thead>\n",
       "    <tr style=\"text-align: right;\">\n",
       "      <th></th>\n",
       "      <th>age</th>\n",
       "      <th>bmi</th>\n",
       "      <th>smoker_yes</th>\n",
       "      <th>charges</th>\n",
       "      <th>charges_log</th>\n",
       "    </tr>\n",
       "  </thead>\n",
       "  <tbody>\n",
       "    <tr>\n",
       "      <th>0</th>\n",
       "      <td>23</td>\n",
       "      <td>24.510</td>\n",
       "      <td>False</td>\n",
       "      <td>2396.09590</td>\n",
       "      <td>7.782013</td>\n",
       "    </tr>\n",
       "    <tr>\n",
       "      <th>1</th>\n",
       "      <td>21</td>\n",
       "      <td>25.745</td>\n",
       "      <td>False</td>\n",
       "      <td>3279.86855</td>\n",
       "      <td>8.095863</td>\n",
       "    </tr>\n",
       "    <tr>\n",
       "      <th>2</th>\n",
       "      <td>52</td>\n",
       "      <td>37.525</td>\n",
       "      <td>False</td>\n",
       "      <td>33471.97189</td>\n",
       "      <td>10.418494</td>\n",
       "    </tr>\n",
       "    <tr>\n",
       "      <th>3</th>\n",
       "      <td>63</td>\n",
       "      <td>41.470</td>\n",
       "      <td>False</td>\n",
       "      <td>13405.39030</td>\n",
       "      <td>9.503487</td>\n",
       "    </tr>\n",
       "    <tr>\n",
       "      <th>4</th>\n",
       "      <td>47</td>\n",
       "      <td>26.600</td>\n",
       "      <td>False</td>\n",
       "      <td>9715.84100</td>\n",
       "      <td>9.181616</td>\n",
       "    </tr>\n",
       "  </tbody>\n",
       "</table>\n",
       "</div>"
      ],
      "text/plain": [
       "   age     bmi  smoker_yes      charges  charges_log\n",
       "0   23  24.510       False   2396.09590     7.782013\n",
       "1   21  25.745       False   3279.86855     8.095863\n",
       "2   52  37.525       False  33471.97189    10.418494\n",
       "3   63  41.470       False  13405.39030     9.503487\n",
       "4   47  26.600       False   9715.84100     9.181616"
      ]
     },
     "execution_count": 4,
     "metadata": {},
     "output_type": "execute_result"
    }
   ],
   "source": [
    "df.head()"
   ]
  },
  {
   "cell_type": "markdown",
   "id": "f015bfba-d9d6-42a8-96d9-4f05d9939230",
   "metadata": {},
   "source": [
    "## Prepare Data For Training Traditional Machine Learning Models"
   ]
  },
  {
   "cell_type": "code",
   "execution_count": 5,
   "id": "dd8099ea-e733-4af7-8e53-a080bd973a36",
   "metadata": {},
   "outputs": [],
   "source": [
    "# Features and target\n",
    "X = df[['age', 'bmi', 'smoker_yes']]  # Your input features\n",
    "y = df['charges']  # Target variable\n",
    "\n",
    "# Split the data into train and test sets (80% train, 20% test)\n",
    "X_train, X_test, y_train, y_test = train_test_split(X, y, test_size=0.2, random_state=42)"
   ]
  },
  {
   "cell_type": "markdown",
   "id": "7b78d3e2-c588-41d3-8ff1-43609b4d6732",
   "metadata": {},
   "source": [
    "## Prepare Data For Deep Learning Model"
   ]
  },
  {
   "cell_type": "code",
   "execution_count": 6,
   "id": "1d8d2ae6-a910-484a-bd55-43b76812b302",
   "metadata": {},
   "outputs": [],
   "source": [
    "scaler = StandardScaler()\n",
    "\n",
    "X_train_scaled = scaler.fit_transform(X_train)\n",
    "X_test_scaled = scaler.transform(X_test)"
   ]
  },
  {
   "cell_type": "markdown",
   "id": "105770ed-02f4-402d-8b99-b2fedfe5967a",
   "metadata": {},
   "source": [
    "## Train Traditional Machine Learning Model "
   ]
  },
  {
   "cell_type": "markdown",
   "id": "3570d792-ee6a-43a7-9682-4489a7521592",
   "metadata": {},
   "source": [
    "## RandomForestRegressor"
   ]
  },
  {
   "cell_type": "code",
   "execution_count": 7,
   "id": "e34643cc-b909-4f68-b16f-1fabf214a03f",
   "metadata": {},
   "outputs": [],
   "source": [
    "# Record the start time for training\n",
    "start_time_rf = time.time()\n",
    "\n",
    "# Initialize the Random Forest Regressor\n",
    "rf_model = RandomForestRegressor(n_estimators=100, random_state=42)\n",
    "\n",
    "# Train the model\n",
    "rf_model.fit(X_train, y_train)\n",
    "\n",
    "# Record the end time for training\n",
    "end_time_rf = time.time()\n",
    "\n",
    "# Calculate the training time\n",
    "training_time_rf = end_time_rf - start_time_rf"
   ]
  },
  {
   "cell_type": "code",
   "execution_count": 8,
   "id": "12f1d2d5-02e6-4bf3-a8dc-a30709d28b95",
   "metadata": {},
   "outputs": [],
   "source": [
    "# Make predictions on the test set\n",
    "y_pred = rf_model.predict(X_test)"
   ]
  },
  {
   "cell_type": "code",
   "execution_count": 9,
   "id": "89fddd65-95bc-46e4-a5f5-19af7cb410ba",
   "metadata": {},
   "outputs": [
    {
     "name": "stdout",
     "output_type": "stream",
     "text": [
      "Random Forest Regressor - Training Time: 0.19 seconds\n",
      "Random Forest Regressor - Mean Absolute Error (MAE): 2248.7723730312896\n",
      "Random Forest Regressor - Mean Squared Error (MSE): 19088656.02659744\n",
      "Random Forest Regressor - R² Score: 0.9005681123606045\n"
     ]
    }
   ],
   "source": [
    "# Calculate performance metrics\n",
    "mae_rf = mean_absolute_error(y_test, y_pred)\n",
    "mse_rf = mean_squared_error(y_test, y_pred)\n",
    "r2_rf = r2_score(y_test, y_pred)\n",
    "\n",
    "# Output the evaluation metrics and training time\n",
    "print(f\"Random Forest Regressor - Training Time: {training_time_rf:.2f} seconds\")\n",
    "print(f\"Random Forest Regressor - Mean Absolute Error (MAE): {mae_rf}\")\n",
    "print(f\"Random Forest Regressor - Mean Squared Error (MSE): {mse_rf}\")\n",
    "print(f\"Random Forest Regressor - R² Score: {r2_rf}\")"
   ]
  },
  {
   "cell_type": "code",
   "execution_count": 10,
   "id": "6822ec92-db64-414f-b52e-0a461be6e674",
   "metadata": {},
   "outputs": [
    {
     "name": "stdout",
     "output_type": "stream",
     "text": [
      "      Feature  Importance\n",
      "2  smoker_yes    0.621488\n",
      "1         bmi    0.292818\n",
      "0         age    0.085694\n"
     ]
    }
   ],
   "source": [
    "# Display feature importances\n",
    "importances = rf_model.feature_importances_\n",
    "features = X.columns\n",
    "\n",
    "# Create a DataFrame to show the importance\n",
    "feature_importance_df = pd.DataFrame({'Feature': features, 'Importance': importances})\n",
    "print(feature_importance_df.sort_values(by='Importance', ascending=False))"
   ]
  },
  {
   "cell_type": "markdown",
   "id": "db4e9c50-26a2-4f4b-90e9-81c3b0194ba3",
   "metadata": {},
   "source": [
    "## Feed-Forward Neural Network"
   ]
  },
  {
   "cell_type": "code",
   "execution_count": 11,
   "id": "f0d1bac8-a737-4611-901e-859d9d0cbceb",
   "metadata": {},
   "outputs": [],
   "source": [
    "# Initialize the neural network\n",
    "model = Sequential()\n",
    "\n",
    "# Input layer with input shape as (X_train_scaled.shape[1],) for the number of features\n",
    "model.add(Input(shape=(X_train_scaled.shape[1],)))\n",
    "\n",
    "# Hidden layers\n",
    "model.add(Dense(124, activation='relu')) # Rectified Linear Unit\n",
    "model.add(Dense(64, activation='relu'))\n",
    "\n",
    "# Output layer for regression (single output)\n",
    "model.add(Dense(1))\n",
    "\n",
    "# Compile the model\n",
    "model.compile(optimizer='adam', loss='mean_squared_error', metrics=['mean_absolute_error', 'mean_squared_error'])"
   ]
  },
  {
   "cell_type": "code",
   "execution_count": 12,
   "id": "5e308916-ff6c-4857-9148-db5a4bbbce29",
   "metadata": {},
   "outputs": [
    {
     "name": "stdout",
     "output_type": "stream",
     "text": [
      "Epoch 1/100\n",
      "\u001b[1m46/46\u001b[0m \u001b[32m━━━━━━━━━━━━━━━━━━━━\u001b[0m\u001b[37m\u001b[0m \u001b[1m1s\u001b[0m 4ms/step - loss: 619853696.0000 - mean_absolute_error: 20188.3379 - mean_squared_error: 619853696.0000 - val_loss: 546831744.0000 - val_mean_absolute_error: 18838.0039 - val_mean_squared_error: 546831744.0000\n",
      "Epoch 2/100\n",
      "\u001b[1m46/46\u001b[0m \u001b[32m━━━━━━━━━━━━━━━━━━━━\u001b[0m\u001b[37m\u001b[0m \u001b[1m0s\u001b[0m 2ms/step - loss: 619290688.0000 - mean_absolute_error: 20176.1621 - mean_squared_error: 619290688.0000 - val_loss: 545870464.0000 - val_mean_absolute_error: 18816.6113 - val_mean_squared_error: 545870464.0000\n",
      "Epoch 3/100\n",
      "\u001b[1m46/46\u001b[0m \u001b[32m━━━━━━━━━━━━━━━━━━━━\u001b[0m\u001b[37m\u001b[0m \u001b[1m0s\u001b[0m 2ms/step - loss: 617405056.0000 - mean_absolute_error: 20137.8770 - mean_squared_error: 617405056.0000 - val_loss: 543044608.0000 - val_mean_absolute_error: 18758.3750 - val_mean_squared_error: 543044608.0000\n",
      "Epoch 4/100\n",
      "\u001b[1m46/46\u001b[0m \u001b[32m━━━━━━━━━━━━━━━━━━━━\u001b[0m\u001b[37m\u001b[0m \u001b[1m0s\u001b[0m 2ms/step - loss: 612552512.0000 - mean_absolute_error: 20048.4004 - mean_squared_error: 612552512.0000 - val_loss: 536929984.0000 - val_mean_absolute_error: 18639.2500 - val_mean_squared_error: 536929984.0000\n",
      "Epoch 5/100\n",
      "\u001b[1m46/46\u001b[0m \u001b[32m━━━━━━━━━━━━━━━━━━━━\u001b[0m\u001b[37m\u001b[0m \u001b[1m0s\u001b[0m 2ms/step - loss: 603166016.0000 - mean_absolute_error: 19879.2930 - mean_squared_error: 603166016.0000 - val_loss: 525829760.0000 - val_mean_absolute_error: 18431.3438 - val_mean_squared_error: 525829760.0000\n",
      "Epoch 6/100\n",
      "\u001b[1m46/46\u001b[0m \u001b[32m━━━━━━━━━━━━━━━━━━━━\u001b[0m\u001b[37m\u001b[0m \u001b[1m0s\u001b[0m 2ms/step - loss: 587260736.0000 - mean_absolute_error: 19603.4180 - mean_squared_error: 587260736.0000 - val_loss: 508790496.0000 - val_mean_absolute_error: 18115.7695 - val_mean_squared_error: 508790496.0000\n",
      "Epoch 7/100\n",
      "\u001b[1m46/46\u001b[0m \u001b[32m━━━━━━━━━━━━━━━━━━━━\u001b[0m\u001b[37m\u001b[0m \u001b[1m0s\u001b[0m 2ms/step - loss: 563808192.0000 - mean_absolute_error: 19193.2812 - mean_squared_error: 563808192.0000 - val_loss: 484176576.0000 - val_mean_absolute_error: 17658.7246 - val_mean_squared_error: 484176576.0000\n",
      "Epoch 8/100\n",
      "\u001b[1m46/46\u001b[0m \u001b[32m━━━━━━━━━━━━━━━━━━━━\u001b[0m\u001b[37m\u001b[0m \u001b[1m0s\u001b[0m 2ms/step - loss: 531877344.0000 - mean_absolute_error: 18628.6426 - mean_squared_error: 531877344.0000 - val_loss: 452476736.0000 - val_mean_absolute_error: 17057.1934 - val_mean_squared_error: 452476736.0000\n",
      "Epoch 9/100\n",
      "\u001b[1m46/46\u001b[0m \u001b[32m━━━━━━━━━━━━━━━━━━━━\u001b[0m\u001b[37m\u001b[0m \u001b[1m0s\u001b[0m 2ms/step - loss: 491827136.0000 - mean_absolute_error: 17904.8965 - mean_squared_error: 491827136.0000 - val_loss: 413624992.0000 - val_mean_absolute_error: 16293.7646 - val_mean_squared_error: 413624992.0000\n",
      "Epoch 10/100\n",
      "\u001b[1m46/46\u001b[0m \u001b[32m━━━━━━━━━━━━━━━━━━━━\u001b[0m\u001b[37m\u001b[0m \u001b[1m0s\u001b[0m 2ms/step - loss: 444307456.0000 - mean_absolute_error: 17010.8320 - mean_squared_error: 444307456.0000 - val_loss: 369691072.0000 - val_mean_absolute_error: 15386.7021 - val_mean_squared_error: 369691040.0000\n",
      "Epoch 11/100\n",
      "\u001b[1m46/46\u001b[0m \u001b[32m━━━━━━━━━━━━━━━━━━━━\u001b[0m\u001b[37m\u001b[0m \u001b[1m0s\u001b[0m 2ms/step - loss: 391165280.0000 - mean_absolute_error: 15951.1465 - mean_squared_error: 391165280.0000 - val_loss: 321092096.0000 - val_mean_absolute_error: 14326.6025 - val_mean_squared_error: 321092096.0000\n",
      "Epoch 12/100\n",
      "\u001b[1m46/46\u001b[0m \u001b[32m━━━━━━━━━━━━━━━━━━━━\u001b[0m\u001b[37m\u001b[0m \u001b[1m0s\u001b[0m 2ms/step - loss: 334225344.0000 - mean_absolute_error: 14753.6621 - mean_squared_error: 334225344.0000 - val_loss: 271376768.0000 - val_mean_absolute_error: 13153.9473 - val_mean_squared_error: 271376768.0000\n",
      "Epoch 13/100\n",
      "\u001b[1m46/46\u001b[0m \u001b[32m━━━━━━━━━━━━━━━━━━━━\u001b[0m\u001b[37m\u001b[0m \u001b[1m0s\u001b[0m 2ms/step - loss: 277425952.0000 - mean_absolute_error: 13464.9004 - mean_squared_error: 277425952.0000 - val_loss: 221797344.0000 - val_mean_absolute_error: 11865.6611 - val_mean_squared_error: 221797344.0000\n",
      "Epoch 14/100\n",
      "\u001b[1m46/46\u001b[0m \u001b[32m━━━━━━━━━━━━━━━━━━━━\u001b[0m\u001b[37m\u001b[0m \u001b[1m0s\u001b[0m 2ms/step - loss: 223198544.0000 - mean_absolute_error: 12114.4502 - mean_squared_error: 223198544.0000 - val_loss: 176267104.0000 - val_mean_absolute_error: 10574.5938 - val_mean_squared_error: 176267104.0000\n",
      "Epoch 15/100\n",
      "\u001b[1m46/46\u001b[0m \u001b[32m━━━━━━━━━━━━━━━━━━━━\u001b[0m\u001b[37m\u001b[0m \u001b[1m0s\u001b[0m 2ms/step - loss: 174650736.0000 - mean_absolute_error: 10772.0947 - mean_squared_error: 174650736.0000 - val_loss: 137822864.0000 - val_mean_absolute_error: 9392.3262 - val_mean_squared_error: 137822848.0000\n",
      "Epoch 16/100\n",
      "\u001b[1m46/46\u001b[0m \u001b[32m━━━━━━━━━━━━━━━━━━━━\u001b[0m\u001b[37m\u001b[0m \u001b[1m0s\u001b[0m 2ms/step - loss: 134525712.0000 - mean_absolute_error: 9467.6348 - mean_squared_error: 134525712.0000 - val_loss: 106198896.0000 - val_mean_absolute_error: 8256.7227 - val_mean_squared_error: 106198896.0000\n",
      "Epoch 17/100\n",
      "\u001b[1m46/46\u001b[0m \u001b[32m━━━━━━━━━━━━━━━━━━━━\u001b[0m\u001b[37m\u001b[0m \u001b[1m0s\u001b[0m 2ms/step - loss: 103250864.0000 - mean_absolute_error: 8249.0840 - mean_squared_error: 103250864.0000 - val_loss: 82267624.0000 - val_mean_absolute_error: 7214.6562 - val_mean_squared_error: 82267624.0000\n",
      "Epoch 18/100\n",
      "\u001b[1m46/46\u001b[0m \u001b[32m━━━━━━━━━━━━━━━━━━━━\u001b[0m\u001b[37m\u001b[0m \u001b[1m0s\u001b[0m 2ms/step - loss: 80403552.0000 - mean_absolute_error: 7114.2812 - mean_squared_error: 80403552.0000 - val_loss: 65268432.0000 - val_mean_absolute_error: 6279.9795 - val_mean_squared_error: 65268444.0000\n",
      "Epoch 19/100\n",
      "\u001b[1m46/46\u001b[0m \u001b[32m━━━━━━━━━━━━━━━━━━━━\u001b[0m\u001b[37m\u001b[0m \u001b[1m0s\u001b[0m 2ms/step - loss: 64944312.0000 - mean_absolute_error: 6177.2397 - mean_squared_error: 64944312.0000 - val_loss: 53582832.0000 - val_mean_absolute_error: 5578.6802 - val_mean_squared_error: 53582832.0000\n",
      "Epoch 20/100\n",
      "\u001b[1m46/46\u001b[0m \u001b[32m━━━━━━━━━━━━━━━━━━━━\u001b[0m\u001b[37m\u001b[0m \u001b[1m0s\u001b[0m 2ms/step - loss: 54959572.0000 - mean_absolute_error: 5555.2471 - mean_squared_error: 54959576.0000 - val_loss: 46305344.0000 - val_mean_absolute_error: 5140.5889 - val_mean_squared_error: 46305340.0000\n",
      "Epoch 21/100\n",
      "\u001b[1m46/46\u001b[0m \u001b[32m━━━━━━━━━━━━━━━━━━━━\u001b[0m\u001b[37m\u001b[0m \u001b[1m0s\u001b[0m 2ms/step - loss: 48840912.0000 - mean_absolute_error: 5199.5176 - mean_squared_error: 48840912.0000 - val_loss: 41669152.0000 - val_mean_absolute_error: 4889.3496 - val_mean_squared_error: 41669152.0000\n",
      "Epoch 22/100\n",
      "\u001b[1m46/46\u001b[0m \u001b[32m━━━━━━━━━━━━━━━━━━━━\u001b[0m\u001b[37m\u001b[0m \u001b[1m0s\u001b[0m 2ms/step - loss: 45134284.0000 - mean_absolute_error: 5015.1890 - mean_squared_error: 45134284.0000 - val_loss: 38792640.0000 - val_mean_absolute_error: 4745.1279 - val_mean_squared_error: 38792640.0000\n",
      "Epoch 23/100\n",
      "\u001b[1m46/46\u001b[0m \u001b[32m━━━━━━━━━━━━━━━━━━━━\u001b[0m\u001b[37m\u001b[0m \u001b[1m0s\u001b[0m 2ms/step - loss: 42873712.0000 - mean_absolute_error: 4900.6514 - mean_squared_error: 42873712.0000 - val_loss: 37031452.0000 - val_mean_absolute_error: 4667.0732 - val_mean_squared_error: 37031452.0000\n",
      "Epoch 24/100\n",
      "\u001b[1m46/46\u001b[0m \u001b[32m━━━━━━━━━━━━━━━━━━━━\u001b[0m\u001b[37m\u001b[0m \u001b[1m0s\u001b[0m 2ms/step - loss: 41500568.0000 - mean_absolute_error: 4837.4775 - mean_squared_error: 41500568.0000 - val_loss: 35876836.0000 - val_mean_absolute_error: 4619.7656 - val_mean_squared_error: 35876836.0000\n",
      "Epoch 25/100\n",
      "\u001b[1m46/46\u001b[0m \u001b[32m━━━━━━━━━━━━━━━━━━━━\u001b[0m\u001b[37m\u001b[0m \u001b[1m0s\u001b[0m 2ms/step - loss: 40604464.0000 - mean_absolute_error: 4807.1187 - mean_squared_error: 40604464.0000 - val_loss: 35045400.0000 - val_mean_absolute_error: 4589.3086 - val_mean_squared_error: 35045400.0000\n",
      "Epoch 26/100\n",
      "\u001b[1m46/46\u001b[0m \u001b[32m━━━━━━━━━━━━━━━━━━━━\u001b[0m\u001b[37m\u001b[0m \u001b[1m0s\u001b[0m 2ms/step - loss: 39952700.0000 - mean_absolute_error: 4775.3716 - mean_squared_error: 39952700.0000 - val_loss: 34508636.0000 - val_mean_absolute_error: 4565.0166 - val_mean_squared_error: 34508636.0000\n",
      "Epoch 27/100\n",
      "\u001b[1m46/46\u001b[0m \u001b[32m━━━━━━━━━━━━━━━━━━━━\u001b[0m\u001b[37m\u001b[0m \u001b[1m0s\u001b[0m 2ms/step - loss: 39479224.0000 - mean_absolute_error: 4758.7378 - mean_squared_error: 39479224.0000 - val_loss: 34010128.0000 - val_mean_absolute_error: 4546.9468 - val_mean_squared_error: 34010128.0000\n",
      "Epoch 28/100\n",
      "\u001b[1m46/46\u001b[0m \u001b[32m━━━━━━━━━━━━━━━━━━━━\u001b[0m\u001b[37m\u001b[0m \u001b[1m0s\u001b[0m 2ms/step - loss: 39073412.0000 - mean_absolute_error: 4741.4453 - mean_squared_error: 39073412.0000 - val_loss: 33627564.0000 - val_mean_absolute_error: 4534.0825 - val_mean_squared_error: 33627564.0000\n",
      "Epoch 29/100\n",
      "\u001b[1m46/46\u001b[0m \u001b[32m━━━━━━━━━━━━━━━━━━━━\u001b[0m\u001b[37m\u001b[0m \u001b[1m0s\u001b[0m 2ms/step - loss: 38729980.0000 - mean_absolute_error: 4728.0352 - mean_squared_error: 38729980.0000 - val_loss: 33282270.0000 - val_mean_absolute_error: 4520.5996 - val_mean_squared_error: 33282270.0000\n",
      "Epoch 30/100\n",
      "\u001b[1m46/46\u001b[0m \u001b[32m━━━━━━━━━━━━━━━━━━━━\u001b[0m\u001b[37m\u001b[0m \u001b[1m0s\u001b[0m 3ms/step - loss: 38408144.0000 - mean_absolute_error: 4717.8423 - mean_squared_error: 38408144.0000 - val_loss: 32952806.0000 - val_mean_absolute_error: 4507.7280 - val_mean_squared_error: 32952806.0000\n",
      "Epoch 31/100\n",
      "\u001b[1m46/46\u001b[0m \u001b[32m━━━━━━━━━━━━━━━━━━━━\u001b[0m\u001b[37m\u001b[0m \u001b[1m0s\u001b[0m 2ms/step - loss: 38095284.0000 - mean_absolute_error: 4701.2739 - mean_squared_error: 38095284.0000 - val_loss: 32656288.0000 - val_mean_absolute_error: 4491.8647 - val_mean_squared_error: 32656288.0000\n",
      "Epoch 32/100\n",
      "\u001b[1m46/46\u001b[0m \u001b[32m━━━━━━━━━━━━━━━━━━━━\u001b[0m\u001b[37m\u001b[0m \u001b[1m0s\u001b[0m 2ms/step - loss: 37812280.0000 - mean_absolute_error: 4684.7134 - mean_squared_error: 37812280.0000 - val_loss: 32393594.0000 - val_mean_absolute_error: 4475.0332 - val_mean_squared_error: 32393594.0000\n",
      "Epoch 33/100\n",
      "\u001b[1m46/46\u001b[0m \u001b[32m━━━━━━━━━━━━━━━━━━━━\u001b[0m\u001b[37m\u001b[0m \u001b[1m0s\u001b[0m 2ms/step - loss: 37536108.0000 - mean_absolute_error: 4673.1099 - mean_squared_error: 37536108.0000 - val_loss: 32119964.0000 - val_mean_absolute_error: 4460.5376 - val_mean_squared_error: 32119964.0000\n",
      "Epoch 34/100\n",
      "\u001b[1m46/46\u001b[0m \u001b[32m━━━━━━━━━━━━━━━━━━━━\u001b[0m\u001b[37m\u001b[0m \u001b[1m0s\u001b[0m 2ms/step - loss: 37281688.0000 - mean_absolute_error: 4658.4297 - mean_squared_error: 37281688.0000 - val_loss: 31872632.0000 - val_mean_absolute_error: 4441.3931 - val_mean_squared_error: 31872634.0000\n",
      "Epoch 35/100\n",
      "\u001b[1m46/46\u001b[0m \u001b[32m━━━━━━━━━━━━━━━━━━━━\u001b[0m\u001b[37m\u001b[0m \u001b[1m0s\u001b[0m 2ms/step - loss: 37038124.0000 - mean_absolute_error: 4639.2251 - mean_squared_error: 37038124.0000 - val_loss: 31645960.0000 - val_mean_absolute_error: 4425.8271 - val_mean_squared_error: 31645960.0000\n",
      "Epoch 36/100\n",
      "\u001b[1m46/46\u001b[0m \u001b[32m━━━━━━━━━━━━━━━━━━━━\u001b[0m\u001b[37m\u001b[0m \u001b[1m0s\u001b[0m 2ms/step - loss: 36823368.0000 - mean_absolute_error: 4624.5181 - mean_squared_error: 36823368.0000 - val_loss: 31428122.0000 - val_mean_absolute_error: 4405.9082 - val_mean_squared_error: 31428122.0000\n",
      "Epoch 37/100\n",
      "\u001b[1m46/46\u001b[0m \u001b[32m━━━━━━━━━━━━━━━━━━━━\u001b[0m\u001b[37m\u001b[0m \u001b[1m0s\u001b[0m 2ms/step - loss: 36569240.0000 - mean_absolute_error: 4611.0103 - mean_squared_error: 36569240.0000 - val_loss: 31223668.0000 - val_mean_absolute_error: 4389.5098 - val_mean_squared_error: 31223668.0000\n",
      "Epoch 38/100\n",
      "\u001b[1m46/46\u001b[0m \u001b[32m━━━━━━━━━━━━━━━━━━━━\u001b[0m\u001b[37m\u001b[0m \u001b[1m0s\u001b[0m 2ms/step - loss: 36363228.0000 - mean_absolute_error: 4591.7603 - mean_squared_error: 36363228.0000 - val_loss: 31015780.0000 - val_mean_absolute_error: 4370.7876 - val_mean_squared_error: 31015780.0000\n",
      "Epoch 39/100\n",
      "\u001b[1m46/46\u001b[0m \u001b[32m━━━━━━━━━━━━━━━━━━━━\u001b[0m\u001b[37m\u001b[0m \u001b[1m0s\u001b[0m 2ms/step - loss: 36131984.0000 - mean_absolute_error: 4574.9849 - mean_squared_error: 36131984.0000 - val_loss: 30818908.0000 - val_mean_absolute_error: 4354.5879 - val_mean_squared_error: 30818908.0000\n",
      "Epoch 40/100\n",
      "\u001b[1m46/46\u001b[0m \u001b[32m━━━━━━━━━━━━━━━━━━━━\u001b[0m\u001b[37m\u001b[0m \u001b[1m0s\u001b[0m 2ms/step - loss: 35948300.0000 - mean_absolute_error: 4564.0332 - mean_squared_error: 35948300.0000 - val_loss: 30624920.0000 - val_mean_absolute_error: 4337.2930 - val_mean_squared_error: 30624920.0000\n",
      "Epoch 41/100\n",
      "\u001b[1m46/46\u001b[0m \u001b[32m━━━━━━━━━━━━━━━━━━━━\u001b[0m\u001b[37m\u001b[0m \u001b[1m0s\u001b[0m 2ms/step - loss: 35743304.0000 - mean_absolute_error: 4547.5391 - mean_squared_error: 35743304.0000 - val_loss: 30450784.0000 - val_mean_absolute_error: 4316.0317 - val_mean_squared_error: 30450784.0000\n",
      "Epoch 42/100\n",
      "\u001b[1m46/46\u001b[0m \u001b[32m━━━━━━━━━━━━━━━━━━━━\u001b[0m\u001b[37m\u001b[0m \u001b[1m0s\u001b[0m 2ms/step - loss: 35547036.0000 - mean_absolute_error: 4529.9180 - mean_squared_error: 35547036.0000 - val_loss: 30253598.0000 - val_mean_absolute_error: 4298.9995 - val_mean_squared_error: 30253598.0000\n",
      "Epoch 43/100\n",
      "\u001b[1m46/46\u001b[0m \u001b[32m━━━━━━━━━━━━━━━━━━━━\u001b[0m\u001b[37m\u001b[0m \u001b[1m0s\u001b[0m 2ms/step - loss: 35333564.0000 - mean_absolute_error: 4511.4492 - mean_squared_error: 35333564.0000 - val_loss: 30085152.0000 - val_mean_absolute_error: 4278.4985 - val_mean_squared_error: 30085152.0000\n",
      "Epoch 44/100\n",
      "\u001b[1m46/46\u001b[0m \u001b[32m━━━━━━━━━━━━━━━━━━━━\u001b[0m\u001b[37m\u001b[0m \u001b[1m0s\u001b[0m 2ms/step - loss: 35155936.0000 - mean_absolute_error: 4495.7520 - mean_squared_error: 35155936.0000 - val_loss: 29908240.0000 - val_mean_absolute_error: 4261.9199 - val_mean_squared_error: 29908240.0000\n",
      "Epoch 45/100\n",
      "\u001b[1m46/46\u001b[0m \u001b[32m━━━━━━━━━━━━━━━━━━━━\u001b[0m\u001b[37m\u001b[0m \u001b[1m0s\u001b[0m 2ms/step - loss: 34968564.0000 - mean_absolute_error: 4479.4956 - mean_squared_error: 34968564.0000 - val_loss: 29745244.0000 - val_mean_absolute_error: 4240.5605 - val_mean_squared_error: 29745244.0000\n",
      "Epoch 46/100\n",
      "\u001b[1m46/46\u001b[0m \u001b[32m━━━━━━━━━━━━━━━━━━━━\u001b[0m\u001b[37m\u001b[0m \u001b[1m0s\u001b[0m 2ms/step - loss: 34782572.0000 - mean_absolute_error: 4461.2158 - mean_squared_error: 34782572.0000 - val_loss: 29569988.0000 - val_mean_absolute_error: 4219.6060 - val_mean_squared_error: 29569988.0000\n",
      "Epoch 47/100\n",
      "\u001b[1m46/46\u001b[0m \u001b[32m━━━━━━━━━━━━━━━━━━━━\u001b[0m\u001b[37m\u001b[0m \u001b[1m0s\u001b[0m 2ms/step - loss: 34621840.0000 - mean_absolute_error: 4447.5747 - mean_squared_error: 34621840.0000 - val_loss: 29386474.0000 - val_mean_absolute_error: 4201.2852 - val_mean_squared_error: 29386474.0000\n",
      "Epoch 48/100\n",
      "\u001b[1m46/46\u001b[0m \u001b[32m━━━━━━━━━━━━━━━━━━━━\u001b[0m\u001b[37m\u001b[0m \u001b[1m0s\u001b[0m 2ms/step - loss: 34443584.0000 - mean_absolute_error: 4424.0562 - mean_squared_error: 34443584.0000 - val_loss: 29237620.0000 - val_mean_absolute_error: 4177.8813 - val_mean_squared_error: 29237620.0000\n",
      "Epoch 49/100\n",
      "\u001b[1m46/46\u001b[0m \u001b[32m━━━━━━━━━━━━━━━━━━━━\u001b[0m\u001b[37m\u001b[0m \u001b[1m0s\u001b[0m 2ms/step - loss: 34262452.0000 - mean_absolute_error: 4409.0283 - mean_squared_error: 34262452.0000 - val_loss: 29057048.0000 - val_mean_absolute_error: 4159.8374 - val_mean_squared_error: 29057050.0000\n",
      "Epoch 50/100\n",
      "\u001b[1m46/46\u001b[0m \u001b[32m━━━━━━━━━━━━━━━━━━━━\u001b[0m\u001b[37m\u001b[0m \u001b[1m0s\u001b[0m 2ms/step - loss: 34071304.0000 - mean_absolute_error: 4386.4092 - mean_squared_error: 34071304.0000 - val_loss: 28890660.0000 - val_mean_absolute_error: 4138.3745 - val_mean_squared_error: 28890660.0000\n",
      "Epoch 51/100\n",
      "\u001b[1m46/46\u001b[0m \u001b[32m━━━━━━━━━━━━━━━━━━━━\u001b[0m\u001b[37m\u001b[0m \u001b[1m0s\u001b[0m 2ms/step - loss: 33919368.0000 - mean_absolute_error: 4371.1953 - mean_squared_error: 33919368.0000 - val_loss: 28712454.0000 - val_mean_absolute_error: 4120.2930 - val_mean_squared_error: 28712454.0000\n",
      "Epoch 52/100\n",
      "\u001b[1m46/46\u001b[0m \u001b[32m━━━━━━━━━━━━━━━━━━━━\u001b[0m\u001b[37m\u001b[0m \u001b[1m0s\u001b[0m 2ms/step - loss: 33738240.0000 - mean_absolute_error: 4347.2915 - mean_squared_error: 33738240.0000 - val_loss: 28559030.0000 - val_mean_absolute_error: 4097.9146 - val_mean_squared_error: 28559030.0000\n",
      "Epoch 53/100\n",
      "\u001b[1m46/46\u001b[0m \u001b[32m━━━━━━━━━━━━━━━━━━━━\u001b[0m\u001b[37m\u001b[0m \u001b[1m0s\u001b[0m 2ms/step - loss: 33588292.0000 - mean_absolute_error: 4330.7930 - mean_squared_error: 33588292.0000 - val_loss: 28400724.0000 - val_mean_absolute_error: 4077.2251 - val_mean_squared_error: 28400724.0000\n",
      "Epoch 54/100\n",
      "\u001b[1m46/46\u001b[0m \u001b[32m━━━━━━━━━━━━━━━━━━━━\u001b[0m\u001b[37m\u001b[0m \u001b[1m0s\u001b[0m 2ms/step - loss: 33393248.0000 - mean_absolute_error: 4316.7910 - mean_squared_error: 33393248.0000 - val_loss: 28210544.0000 - val_mean_absolute_error: 4058.4419 - val_mean_squared_error: 28210544.0000\n",
      "Epoch 55/100\n",
      "\u001b[1m46/46\u001b[0m \u001b[32m━━━━━━━━━━━━━━━━━━━━\u001b[0m\u001b[37m\u001b[0m \u001b[1m0s\u001b[0m 2ms/step - loss: 33224962.0000 - mean_absolute_error: 4295.1714 - mean_squared_error: 33224962.0000 - val_loss: 28051962.0000 - val_mean_absolute_error: 4034.5874 - val_mean_squared_error: 28051962.0000\n",
      "Epoch 56/100\n",
      "\u001b[1m46/46\u001b[0m \u001b[32m━━━━━━━━━━━━━━━━━━━━\u001b[0m\u001b[37m\u001b[0m \u001b[1m0s\u001b[0m 2ms/step - loss: 33039292.0000 - mean_absolute_error: 4275.6460 - mean_squared_error: 33039292.0000 - val_loss: 27896864.0000 - val_mean_absolute_error: 4016.6082 - val_mean_squared_error: 27896864.0000\n",
      "Epoch 57/100\n",
      "\u001b[1m46/46\u001b[0m \u001b[32m━━━━━━━━━━━━━━━━━━━━\u001b[0m\u001b[37m\u001b[0m \u001b[1m0s\u001b[0m 2ms/step - loss: 32882518.0000 - mean_absolute_error: 4257.9585 - mean_squared_error: 32882518.0000 - val_loss: 27734926.0000 - val_mean_absolute_error: 3994.2170 - val_mean_squared_error: 27734926.0000\n",
      "Epoch 58/100\n",
      "\u001b[1m46/46\u001b[0m \u001b[32m━━━━━━━━━━━━━━━━━━━━\u001b[0m\u001b[37m\u001b[0m \u001b[1m0s\u001b[0m 2ms/step - loss: 32726462.0000 - mean_absolute_error: 4242.7056 - mean_squared_error: 32726462.0000 - val_loss: 27562526.0000 - val_mean_absolute_error: 3973.5032 - val_mean_squared_error: 27562526.0000\n",
      "Epoch 59/100\n",
      "\u001b[1m46/46\u001b[0m \u001b[32m━━━━━━━━━━━━━━━━━━━━\u001b[0m\u001b[37m\u001b[0m \u001b[1m0s\u001b[0m 2ms/step - loss: 32537962.0000 - mean_absolute_error: 4217.6230 - mean_squared_error: 32537962.0000 - val_loss: 27412270.0000 - val_mean_absolute_error: 3951.2373 - val_mean_squared_error: 27412270.0000\n",
      "Epoch 60/100\n",
      "\u001b[1m46/46\u001b[0m \u001b[32m━━━━━━━━━━━━━━━━━━━━\u001b[0m\u001b[37m\u001b[0m \u001b[1m0s\u001b[0m 2ms/step - loss: 32368988.0000 - mean_absolute_error: 4199.3979 - mean_squared_error: 32368988.0000 - val_loss: 27260596.0000 - val_mean_absolute_error: 3929.7468 - val_mean_squared_error: 27260596.0000\n",
      "Epoch 61/100\n",
      "\u001b[1m46/46\u001b[0m \u001b[32m━━━━━━━━━━━━━━━━━━━━\u001b[0m\u001b[37m\u001b[0m \u001b[1m0s\u001b[0m 2ms/step - loss: 32210384.0000 - mean_absolute_error: 4177.8027 - mean_squared_error: 32210384.0000 - val_loss: 27093654.0000 - val_mean_absolute_error: 3906.5366 - val_mean_squared_error: 27093654.0000\n",
      "Epoch 62/100\n",
      "\u001b[1m46/46\u001b[0m \u001b[32m━━━━━━━━━━━━━━━━━━━━\u001b[0m\u001b[37m\u001b[0m \u001b[1m0s\u001b[0m 2ms/step - loss: 32035034.0000 - mean_absolute_error: 4156.1533 - mean_squared_error: 32035034.0000 - val_loss: 26935060.0000 - val_mean_absolute_error: 3884.5979 - val_mean_squared_error: 26935060.0000\n",
      "Epoch 63/100\n",
      "\u001b[1m46/46\u001b[0m \u001b[32m━━━━━━━━━━━━━━━━━━━━\u001b[0m\u001b[37m\u001b[0m \u001b[1m0s\u001b[0m 2ms/step - loss: 31893702.0000 - mean_absolute_error: 4141.4194 - mean_squared_error: 31893702.0000 - val_loss: 26767726.0000 - val_mean_absolute_error: 3862.7598 - val_mean_squared_error: 26767726.0000\n",
      "Epoch 64/100\n",
      "\u001b[1m46/46\u001b[0m \u001b[32m━━━━━━━━━━━━━━━━━━━━\u001b[0m\u001b[37m\u001b[0m \u001b[1m0s\u001b[0m 2ms/step - loss: 31720326.0000 - mean_absolute_error: 4119.5396 - mean_squared_error: 31720332.0000 - val_loss: 26607428.0000 - val_mean_absolute_error: 3840.9451 - val_mean_squared_error: 26607428.0000\n",
      "Epoch 65/100\n",
      "\u001b[1m46/46\u001b[0m \u001b[32m━━━━━━━━━━━━━━━━━━━━\u001b[0m\u001b[37m\u001b[0m \u001b[1m0s\u001b[0m 2ms/step - loss: 31557602.0000 - mean_absolute_error: 4102.3101 - mean_squared_error: 31557602.0000 - val_loss: 26455084.0000 - val_mean_absolute_error: 3820.6050 - val_mean_squared_error: 26455084.0000\n",
      "Epoch 66/100\n",
      "\u001b[1m46/46\u001b[0m \u001b[32m━━━━━━━━━━━━━━━━━━━━\u001b[0m\u001b[37m\u001b[0m \u001b[1m0s\u001b[0m 2ms/step - loss: 31402184.0000 - mean_absolute_error: 4079.7595 - mean_squared_error: 31402184.0000 - val_loss: 26311290.0000 - val_mean_absolute_error: 3797.0278 - val_mean_squared_error: 26311290.0000\n",
      "Epoch 67/100\n",
      "\u001b[1m46/46\u001b[0m \u001b[32m━━━━━━━━━━━━━━━━━━━━\u001b[0m\u001b[37m\u001b[0m \u001b[1m0s\u001b[0m 2ms/step - loss: 31234248.0000 - mean_absolute_error: 4057.6204 - mean_squared_error: 31234248.0000 - val_loss: 26153092.0000 - val_mean_absolute_error: 3778.3169 - val_mean_squared_error: 26153092.0000\n",
      "Epoch 68/100\n",
      "\u001b[1m46/46\u001b[0m \u001b[32m━━━━━━━━━━━━━━━━━━━━\u001b[0m\u001b[37m\u001b[0m \u001b[1m0s\u001b[0m 2ms/step - loss: 31067908.0000 - mean_absolute_error: 4039.5627 - mean_squared_error: 31067908.0000 - val_loss: 26006794.0000 - val_mean_absolute_error: 3758.3611 - val_mean_squared_error: 26006794.0000\n",
      "Epoch 69/100\n",
      "\u001b[1m46/46\u001b[0m \u001b[32m━━━━━━━━━━━━━━━━━━━━\u001b[0m\u001b[37m\u001b[0m \u001b[1m0s\u001b[0m 2ms/step - loss: 30909662.0000 - mean_absolute_error: 4023.7427 - mean_squared_error: 30909662.0000 - val_loss: 25861994.0000 - val_mean_absolute_error: 3739.1506 - val_mean_squared_error: 25861994.0000\n",
      "Epoch 70/100\n",
      "\u001b[1m46/46\u001b[0m \u001b[32m━━━━━━━━━━━━━━━━━━━━\u001b[0m\u001b[37m\u001b[0m \u001b[1m0s\u001b[0m 2ms/step - loss: 30744406.0000 - mean_absolute_error: 4002.8809 - mean_squared_error: 30744406.0000 - val_loss: 25714880.0000 - val_mean_absolute_error: 3719.6140 - val_mean_squared_error: 25714880.0000\n",
      "Epoch 71/100\n",
      "\u001b[1m46/46\u001b[0m \u001b[32m━━━━━━━━━━━━━━━━━━━━\u001b[0m\u001b[37m\u001b[0m \u001b[1m0s\u001b[0m 2ms/step - loss: 30606524.0000 - mean_absolute_error: 3982.8403 - mean_squared_error: 30606524.0000 - val_loss: 25561032.0000 - val_mean_absolute_error: 3698.9102 - val_mean_squared_error: 25561032.0000\n",
      "Epoch 72/100\n",
      "\u001b[1m46/46\u001b[0m \u001b[32m━━━━━━━━━━━━━━━━━━━━\u001b[0m\u001b[37m\u001b[0m \u001b[1m0s\u001b[0m 2ms/step - loss: 30451158.0000 - mean_absolute_error: 3963.9883 - mean_squared_error: 30451158.0000 - val_loss: 25437678.0000 - val_mean_absolute_error: 3680.0999 - val_mean_squared_error: 25437678.0000\n",
      "Epoch 73/100\n",
      "\u001b[1m46/46\u001b[0m \u001b[32m━━━━━━━━━━━━━━━━━━━━\u001b[0m\u001b[37m\u001b[0m \u001b[1m0s\u001b[0m 2ms/step - loss: 30308690.0000 - mean_absolute_error: 3946.1204 - mean_squared_error: 30308690.0000 - val_loss: 25299626.0000 - val_mean_absolute_error: 3660.8760 - val_mean_squared_error: 25299626.0000\n",
      "Epoch 74/100\n",
      "\u001b[1m46/46\u001b[0m \u001b[32m━━━━━━━━━━━━━━━━━━━━\u001b[0m\u001b[37m\u001b[0m \u001b[1m0s\u001b[0m 2ms/step - loss: 30145408.0000 - mean_absolute_error: 3928.4285 - mean_squared_error: 30145408.0000 - val_loss: 25165286.0000 - val_mean_absolute_error: 3642.5896 - val_mean_squared_error: 25165286.0000\n",
      "Epoch 75/100\n",
      "\u001b[1m46/46\u001b[0m \u001b[32m━━━━━━━━━━━━━━━━━━━━\u001b[0m\u001b[37m\u001b[0m \u001b[1m0s\u001b[0m 2ms/step - loss: 30014544.0000 - mean_absolute_error: 3911.7920 - mean_squared_error: 30014544.0000 - val_loss: 25046224.0000 - val_mean_absolute_error: 3624.6821 - val_mean_squared_error: 25046224.0000\n",
      "Epoch 76/100\n",
      "\u001b[1m46/46\u001b[0m \u001b[32m━━━━━━━━━━━━━━━━━━━━\u001b[0m\u001b[37m\u001b[0m \u001b[1m0s\u001b[0m 3ms/step - loss: 29873376.0000 - mean_absolute_error: 3896.2705 - mean_squared_error: 29873376.0000 - val_loss: 24916060.0000 - val_mean_absolute_error: 3609.6992 - val_mean_squared_error: 24916060.0000\n",
      "Epoch 77/100\n",
      "\u001b[1m46/46\u001b[0m \u001b[32m━━━━━━━━━━━━━━━━━━━━\u001b[0m\u001b[37m\u001b[0m \u001b[1m0s\u001b[0m 2ms/step - loss: 29714408.0000 - mean_absolute_error: 3879.0125 - mean_squared_error: 29714408.0000 - val_loss: 24786006.0000 - val_mean_absolute_error: 3594.8757 - val_mean_squared_error: 24786006.0000\n",
      "Epoch 78/100\n",
      "\u001b[1m46/46\u001b[0m \u001b[32m━━━━━━━━━━━━━━━━━━━━\u001b[0m\u001b[37m\u001b[0m \u001b[1m0s\u001b[0m 2ms/step - loss: 29585438.0000 - mean_absolute_error: 3859.3633 - mean_squared_error: 29585438.0000 - val_loss: 24659686.0000 - val_mean_absolute_error: 3576.3184 - val_mean_squared_error: 24659686.0000\n",
      "Epoch 79/100\n",
      "\u001b[1m46/46\u001b[0m \u001b[32m━━━━━━━━━━━━━━━━━━━━\u001b[0m\u001b[37m\u001b[0m \u001b[1m0s\u001b[0m 2ms/step - loss: 29466662.0000 - mean_absolute_error: 3843.4429 - mean_squared_error: 29466662.0000 - val_loss: 24543114.0000 - val_mean_absolute_error: 3558.6594 - val_mean_squared_error: 24543114.0000\n",
      "Epoch 80/100\n",
      "\u001b[1m46/46\u001b[0m \u001b[32m━━━━━━━━━━━━━━━━━━━━\u001b[0m\u001b[37m\u001b[0m \u001b[1m0s\u001b[0m 2ms/step - loss: 29320850.0000 - mean_absolute_error: 3829.4580 - mean_squared_error: 29320850.0000 - val_loss: 24428306.0000 - val_mean_absolute_error: 3545.7590 - val_mean_squared_error: 24428306.0000\n",
      "Epoch 81/100\n",
      "\u001b[1m46/46\u001b[0m \u001b[32m━━━━━━━━━━━━━━━━━━━━\u001b[0m\u001b[37m\u001b[0m \u001b[1m0s\u001b[0m 2ms/step - loss: 29205942.0000 - mean_absolute_error: 3819.8411 - mean_squared_error: 29205942.0000 - val_loss: 24325138.0000 - val_mean_absolute_error: 3534.1758 - val_mean_squared_error: 24325138.0000\n",
      "Epoch 82/100\n",
      "\u001b[1m46/46\u001b[0m \u001b[32m━━━━━━━━━━━━━━━━━━━━\u001b[0m\u001b[37m\u001b[0m \u001b[1m0s\u001b[0m 2ms/step - loss: 29063404.0000 - mean_absolute_error: 3800.9993 - mean_squared_error: 29063404.0000 - val_loss: 24204364.0000 - val_mean_absolute_error: 3517.1345 - val_mean_squared_error: 24204364.0000\n",
      "Epoch 83/100\n",
      "\u001b[1m46/46\u001b[0m \u001b[32m━━━━━━━━━━━━━━━━━━━━\u001b[0m\u001b[37m\u001b[0m \u001b[1m0s\u001b[0m 2ms/step - loss: 28938332.0000 - mean_absolute_error: 3787.6096 - mean_squared_error: 28938332.0000 - val_loss: 24112182.0000 - val_mean_absolute_error: 3502.3977 - val_mean_squared_error: 24112182.0000\n",
      "Epoch 84/100\n",
      "\u001b[1m46/46\u001b[0m \u001b[32m━━━━━━━━━━━━━━━━━━━━\u001b[0m\u001b[37m\u001b[0m \u001b[1m0s\u001b[0m 2ms/step - loss: 28807222.0000 - mean_absolute_error: 3767.0066 - mean_squared_error: 28807222.0000 - val_loss: 23990686.0000 - val_mean_absolute_error: 3486.2781 - val_mean_squared_error: 23990686.0000\n",
      "Epoch 85/100\n",
      "\u001b[1m46/46\u001b[0m \u001b[32m━━━━━━━━━━━━━━━━━━━━\u001b[0m\u001b[37m\u001b[0m \u001b[1m0s\u001b[0m 2ms/step - loss: 28674562.0000 - mean_absolute_error: 3760.2236 - mean_squared_error: 28674562.0000 - val_loss: 23908266.0000 - val_mean_absolute_error: 3478.5642 - val_mean_squared_error: 23908266.0000\n",
      "Epoch 86/100\n",
      "\u001b[1m46/46\u001b[0m \u001b[32m━━━━━━━━━━━━━━━━━━━━\u001b[0m\u001b[37m\u001b[0m \u001b[1m0s\u001b[0m 2ms/step - loss: 28561318.0000 - mean_absolute_error: 3745.9250 - mean_squared_error: 28561318.0000 - val_loss: 23814436.0000 - val_mean_absolute_error: 3463.1052 - val_mean_squared_error: 23814436.0000\n",
      "Epoch 87/100\n",
      "\u001b[1m46/46\u001b[0m \u001b[32m━━━━━━━━━━━━━━━━━━━━\u001b[0m\u001b[37m\u001b[0m \u001b[1m0s\u001b[0m 2ms/step - loss: 28441732.0000 - mean_absolute_error: 3733.3733 - mean_squared_error: 28441732.0000 - val_loss: 23711438.0000 - val_mean_absolute_error: 3453.5874 - val_mean_squared_error: 23711440.0000\n",
      "Epoch 88/100\n",
      "\u001b[1m46/46\u001b[0m \u001b[32m━━━━━━━━━━━━━━━━━━━━\u001b[0m\u001b[37m\u001b[0m \u001b[1m0s\u001b[0m 2ms/step - loss: 28320646.0000 - mean_absolute_error: 3718.7366 - mean_squared_error: 28320646.0000 - val_loss: 23615962.0000 - val_mean_absolute_error: 3435.4211 - val_mean_squared_error: 23615962.0000\n",
      "Epoch 89/100\n",
      "\u001b[1m46/46\u001b[0m \u001b[32m━━━━━━━━━━━━━━━━━━━━\u001b[0m\u001b[37m\u001b[0m \u001b[1m0s\u001b[0m 2ms/step - loss: 28208266.0000 - mean_absolute_error: 3709.9536 - mean_squared_error: 28208266.0000 - val_loss: 23528080.0000 - val_mean_absolute_error: 3429.6521 - val_mean_squared_error: 23528080.0000\n",
      "Epoch 90/100\n",
      "\u001b[1m46/46\u001b[0m \u001b[32m━━━━━━━━━━━━━━━━━━━━\u001b[0m\u001b[37m\u001b[0m \u001b[1m0s\u001b[0m 2ms/step - loss: 28089120.0000 - mean_absolute_error: 3695.5022 - mean_squared_error: 28089120.0000 - val_loss: 23434046.0000 - val_mean_absolute_error: 3414.3950 - val_mean_squared_error: 23434046.0000\n",
      "Epoch 91/100\n",
      "\u001b[1m46/46\u001b[0m \u001b[32m━━━━━━━━━━━━━━━━━━━━\u001b[0m\u001b[37m\u001b[0m \u001b[1m0s\u001b[0m 2ms/step - loss: 27984998.0000 - mean_absolute_error: 3681.5942 - mean_squared_error: 27984998.0000 - val_loss: 23344810.0000 - val_mean_absolute_error: 3401.7354 - val_mean_squared_error: 23344810.0000\n",
      "Epoch 92/100\n",
      "\u001b[1m46/46\u001b[0m \u001b[32m━━━━━━━━━━━━━━━━━━━━\u001b[0m\u001b[37m\u001b[0m \u001b[1m0s\u001b[0m 2ms/step - loss: 27877568.0000 - mean_absolute_error: 3674.2358 - mean_squared_error: 27877568.0000 - val_loss: 23280170.0000 - val_mean_absolute_error: 3393.9321 - val_mean_squared_error: 23280170.0000\n",
      "Epoch 93/100\n",
      "\u001b[1m46/46\u001b[0m \u001b[32m━━━━━━━━━━━━━━━━━━━━\u001b[0m\u001b[37m\u001b[0m \u001b[1m0s\u001b[0m 2ms/step - loss: 27767610.0000 - mean_absolute_error: 3662.6499 - mean_squared_error: 27767610.0000 - val_loss: 23187372.0000 - val_mean_absolute_error: 3384.6433 - val_mean_squared_error: 23187372.0000\n",
      "Epoch 94/100\n",
      "\u001b[1m46/46\u001b[0m \u001b[32m━━━━━━━━━━━━━━━━━━━━\u001b[0m\u001b[37m\u001b[0m \u001b[1m0s\u001b[0m 2ms/step - loss: 27677592.0000 - mean_absolute_error: 3646.7500 - mean_squared_error: 27677592.0000 - val_loss: 23103030.0000 - val_mean_absolute_error: 3371.9163 - val_mean_squared_error: 23103030.0000\n",
      "Epoch 95/100\n",
      "\u001b[1m46/46\u001b[0m \u001b[32m━━━━━━━━━━━━━━━━━━━━\u001b[0m\u001b[37m\u001b[0m \u001b[1m0s\u001b[0m 2ms/step - loss: 27584968.0000 - mean_absolute_error: 3644.8740 - mean_squared_error: 27584968.0000 - val_loss: 23032592.0000 - val_mean_absolute_error: 3359.9116 - val_mean_squared_error: 23032592.0000\n",
      "Epoch 96/100\n",
      "\u001b[1m46/46\u001b[0m \u001b[32m━━━━━━━━━━━━━━━━━━━━\u001b[0m\u001b[37m\u001b[0m \u001b[1m0s\u001b[0m 2ms/step - loss: 27476096.0000 - mean_absolute_error: 3628.3042 - mean_squared_error: 27476096.0000 - val_loss: 22962294.0000 - val_mean_absolute_error: 3360.7903 - val_mean_squared_error: 22962294.0000\n",
      "Epoch 97/100\n",
      "\u001b[1m46/46\u001b[0m \u001b[32m━━━━━━━━━━━━━━━━━━━━\u001b[0m\u001b[37m\u001b[0m \u001b[1m0s\u001b[0m 2ms/step - loss: 27360298.0000 - mean_absolute_error: 3627.2183 - mean_squared_error: 27360298.0000 - val_loss: 22902120.0000 - val_mean_absolute_error: 3348.7397 - val_mean_squared_error: 22902120.0000\n",
      "Epoch 98/100\n",
      "\u001b[1m46/46\u001b[0m \u001b[32m━━━━━━━━━━━━━━━━━━━━\u001b[0m\u001b[37m\u001b[0m \u001b[1m0s\u001b[0m 2ms/step - loss: 27275402.0000 - mean_absolute_error: 3612.3564 - mean_squared_error: 27275402.0000 - val_loss: 22834298.0000 - val_mean_absolute_error: 3340.3484 - val_mean_squared_error: 22834298.0000\n",
      "Epoch 99/100\n",
      "\u001b[1m46/46\u001b[0m \u001b[32m━━━━━━━━━━━━━━━━━━━━\u001b[0m\u001b[37m\u001b[0m \u001b[1m0s\u001b[0m 2ms/step - loss: 27171908.0000 - mean_absolute_error: 3599.8779 - mean_squared_error: 27171908.0000 - val_loss: 22755558.0000 - val_mean_absolute_error: 3327.6492 - val_mean_squared_error: 22755558.0000\n",
      "Epoch 100/100\n",
      "\u001b[1m46/46\u001b[0m \u001b[32m━━━━━━━━━━━━━━━━━━━━\u001b[0m\u001b[37m\u001b[0m \u001b[1m0s\u001b[0m 2ms/step - loss: 27085844.0000 - mean_absolute_error: 3595.0295 - mean_squared_error: 27085844.0000 - val_loss: 22699176.0000 - val_mean_absolute_error: 3317.7734 - val_mean_squared_error: 22699176.0000\n"
     ]
    }
   ],
   "source": [
    "# Create EarlyStopping\n",
    "early_stopping = EarlyStopping(monitor='val_loss', patience=10, restore_best_weights=True)\n",
    "\n",
    "# Record the start time for training\n",
    "start_time = time.time()\n",
    "\n",
    "# Train the model\n",
    "history = model.fit(X_train_scaled, y_train, epochs=100, batch_size=30, validation_data=(X_test_scaled, y_test), verbose=1, callbacks=[early_stopping])\n",
    "\n",
    "# Record the end time for training\n",
    "end_time = time.time()\n",
    "# Calculate the training time\n",
    "training_time = end_time - start_time"
   ]
  },
  {
   "cell_type": "code",
   "execution_count": 13,
   "id": "1d564a34-431b-43bb-a439-7eac58a51f70",
   "metadata": {},
   "outputs": [
    {
     "name": "stdout",
     "output_type": "stream",
     "text": [
      "\u001b[1m11/11\u001b[0m \u001b[32m━━━━━━━━━━━━━━━━━━━━\u001b[0m\u001b[37m\u001b[0m \u001b[1m0s\u001b[0m 3ms/step \n",
      "Neural Network - Training Time: 10.34 seconds\n",
      "Neural Network - Mean Absolute Error (MAE): 3317.773269961448\n",
      "Neural Network - Mean Squared Error (MSE): 22699174.582086727\n",
      "Neural Network - R² Score: 0.8817610955214333\n"
     ]
    }
   ],
   "source": [
    "# Make predictions\n",
    "y_pred_nn = model.predict(X_test_scaled)\n",
    "\n",
    "# Evaluate the model\n",
    "mae_nn = mean_absolute_error(y_test, y_pred_nn)\n",
    "mse_nn = mean_squared_error(y_test, y_pred_nn)\n",
    "r2_nn = r2_score(y_test, y_pred_nn)\n",
    "\n",
    "# Output the evaluation metrics and training time\n",
    "print(f\"Neural Network - Training Time: {training_time:.2f} seconds\")\n",
    "print(f\"Neural Network - Mean Absolute Error (MAE): {mae_nn}\")\n",
    "print(f\"Neural Network - Mean Squared Error (MSE): {mse_nn}\")\n",
    "print(f\"Neural Network - R² Score: {r2_nn}\")"
   ]
  },
  {
   "cell_type": "code",
   "execution_count": 14,
   "id": "1dc0ecfc-e1b8-46e6-a213-c79898ddcfa7",
   "metadata": {},
   "outputs": [
    {
     "data": {
      "image/png": "[encoded data removed]",
      "text/plain": [
       "<Figure size 640x480 with 1 Axes>"
      ]
     },
     "metadata": {},
     "output_type": "display_data"
    }
   ],
   "source": [
    "# Plot training & validation loss\n",
    "plt.plot(history.history['loss'], label='Training Loss')\n",
    "plt.plot(history.history['val_loss'], label='Validation Loss')\n",
    "plt.xlabel('Epochs')\n",
    "plt.ylabel('Loss')\n",
    "plt.legend()\n",
    "plt.show()"
   ]
  }
 ],
 "metadata": {
  "kernelspec": {
   "display_name": "Python [conda env:base] *",
   "language": "python",
   "name": "conda-base-py"
  },
  "language_info": {
   "codemirror_mode": {
    "name": "ipython",
    "version": 3
   },
   "file_extension": ".py",
   "mimetype": "text/x-python",
   "name": "python",
   "nbconvert_exporter": "python",
   "pygments_lexer": "ipython3",
   "version": "3.12.7"
  }
 },
 "nbformat": 4,
 "nbformat_minor": 5
}
